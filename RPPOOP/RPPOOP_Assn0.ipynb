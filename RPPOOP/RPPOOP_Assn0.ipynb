{
 "cells": [
  {
   "cell_type": "code",
   "execution_count": 1,
   "id": "5830345b",
   "metadata": {},
   "outputs": [
    {
     "data": {
      "text/plain": [
       "'Design and implement a class representing a rectangle and operations like area, perimeter, \\nchange dimensions, report dimensions on it. Write code to test your classes'"
      ]
     },
     "execution_count": 1,
     "metadata": {},
     "output_type": "execute_result"
    }
   ],
   "source": [
    "'''Design and implement a class representing a rectangle and operations like area, perimeter, \n",
    "change dimensions, report dimensions on it. Write code to test your classes'''"
   ]
  },
  {
   "cell_type": "code",
   "execution_count": 2,
   "id": "37b6d0ec",
   "metadata": {},
   "outputs": [],
   "source": [
    "# Creating a class of rectangle\n",
    "\n",
    "class Rectangle :\n",
    "    def __init__(self, length=0, breadth=0) : # Changed here\n",
    "        self.length = length\n",
    "        self.breadth = breadth\n",
    "        print(\"Rectangle initialised to 0 dimensions\\n\")\n",
    "    def area(self) :\n",
    "        return self.breadth*self.length\n",
    "    def perimeter(self) :\n",
    "        return 2*(self.length + self.breadth)\n",
    "    def modify_dimensions(self, changed_length, changed_breadth) :\n",
    "        self.length = changed_length\n",
    "        self.breadth = changed_breadth\n",
    "    def display_details(self) :\n",
    "        print(f\"Length of rectangle: {self.length}\")\n",
    "        print(f\"Breadth of rectangle: {self.breadth}\\n\")\n",
    "        "
   ]
  },
  {
   "cell_type": "code",
   "execution_count": 4,
   "id": "512dac9b",
   "metadata": {},
   "outputs": [
    {
     "name": "stdout",
     "output_type": "stream",
     "text": [
      "1 - Create a rectangle\n",
      "2 - Display length and breadth of rectangle\n",
      "3 - Display area of the rectangle\n",
      "4 - Display perimeter of the rectangle\n",
      "5 - Modify dimensions\n",
      "0 - Quit\n",
      "\n",
      "\n",
      "Enter option: 1\n",
      "Rectangle initialised to 0 dimensions\n",
      "\n",
      "1 - Create a rectangle\n",
      "2 - Display length and breadth of rectangle\n",
      "3 - Display area of the rectangle\n",
      "4 - Display perimeter of the rectangle\n",
      "5 - Modify dimensions\n",
      "0 - Quit\n",
      "\n",
      "\n",
      "Enter option: 5\n",
      "Enter modified length6\n",
      "Enter modified breadth7\n",
      "1 - Create a rectangle\n",
      "2 - Display length and breadth of rectangle\n",
      "3 - Display area of the rectangle\n",
      "4 - Display perimeter of the rectangle\n",
      "5 - Modify dimensions\n",
      "0 - Quit\n",
      "\n",
      "\n",
      "Enter option: 4\n",
      "Perimeter of rectangle: 26\n",
      "1 - Create a rectangle\n",
      "2 - Display length and breadth of rectangle\n",
      "3 - Display area of the rectangle\n",
      "4 - Display perimeter of the rectangle\n",
      "5 - Modify dimensions\n",
      "0 - Quit\n",
      "\n",
      "\n",
      "Enter option: 2\n",
      "Length of rectangle: 6\n",
      "Breadth of rectangle: 7\n",
      "\n",
      "1 - Create a rectangle\n",
      "2 - Display length and breadth of rectangle\n",
      "3 - Display area of the rectangle\n",
      "4 - Display perimeter of the rectangle\n",
      "5 - Modify dimensions\n",
      "0 - Quit\n",
      "\n",
      "\n",
      "Enter option: 0\n"
     ]
    }
   ],
   "source": [
    "# Menu driven program\n",
    "\n",
    "# Rectangles are stored in a list, the latest created rectangle is accessed by the user\n",
    "\n",
    "choice = 1\n",
    "l = []\n",
    "\n",
    "while(choice) :\n",
    "    \n",
    "    print(\"1 - Create a rectangle\")\n",
    "    print(\"2 - Display length and breadth of rectangle\")\n",
    "    print(\"3 - Display area of the rectangle\")\n",
    "    print(\"4 - Display perimeter of the rectangle\")\n",
    "    print(\"5 - Modify dimensions\")\n",
    "    print(\"0 - Quit\")\n",
    "    print(\"\\n\")\n",
    "    choice = int(input(\"Enter option: \"))\n",
    "    \n",
    "    # Create a rectangle\n",
    "    if (choice == 1) :\n",
    "        x = Rectangle()\n",
    "        l.append(x)\n",
    "        \n",
    "    # Display length and breadth \n",
    "    elif (choice == 2) :\n",
    "        l[-1].display_details()\n",
    "        \n",
    "    # Display area \n",
    "    elif (choice == 3) :\n",
    "        print(f\"Area of rectangle: {l[-1].area()}\")\n",
    "    \n",
    "    # Display perimeter \n",
    "    elif (choice == 4) :\n",
    "        print(f\"Perimeter of rectangle: {l[-1].perimeter()}\")\n",
    "        \n",
    "    # Modify dimensions\n",
    "    elif (choice == 5) :\n",
    "        changed_length = int(input(\"Enter modified length: \"))\n",
    "        changed_breadth = int(input(\"Enter modified breadth: \"))\n",
    "        l[-1].modify_dimensions(changed_length, changed_breadth)\n",
    "        \n",
    "    # Incorrect input\n",
    "    elif (choice != 0) :\n",
    "        print(\"Invalid input, try again!\")        "
   ]
  },
  {
   "cell_type": "code",
   "execution_count": null,
   "id": "e4fc406c",
   "metadata": {},
   "outputs": [],
   "source": []
  },
  {
   "cell_type": "code",
   "execution_count": null,
   "id": "37c38559",
   "metadata": {},
   "outputs": [],
   "source": []
  }
 ],
 "metadata": {
  "kernelspec": {
   "display_name": "Python 3 (ipykernel)",
   "language": "python",
   "name": "python3"
  },
  "language_info": {
   "codemirror_mode": {
    "name": "ipython",
    "version": 3
   },
   "file_extension": ".py",
   "mimetype": "text/x-python",
   "name": "python",
   "nbconvert_exporter": "python",
   "pygments_lexer": "ipython3",
   "version": "3.9.13"
  }
 },
 "nbformat": 4,
 "nbformat_minor": 5
}
