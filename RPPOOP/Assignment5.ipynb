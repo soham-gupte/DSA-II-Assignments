{
 "cells": [
  {
   "cell_type": "code",
   "execution_count": 9,
   "id": "9402ee8b",
   "metadata": {},
   "outputs": [],
   "source": [
    "from tkinter import *\n"
   ]
  },
  {
   "cell_type": "code",
   "execution_count": 20,
   "id": "afc16528",
   "metadata": {},
   "outputs": [],
   "source": [
    "\n",
    "# create main window\n",
    "root = tk.Tk()\n",
    "root.title(\"Menu Example\")\n",
    "\n",
    "# Create menu\n",
    "menubar = Menu(root)\n",
    "\n",
    "# File\n",
    "file_menu = Menu(menubar, tearoff=0)\n",
    "file_menu.add_command(label=\"New File\")\n",
    "file_menu.add_command(label=\"Open File\")\n",
    "file_menu.add_command(label=\"Save File\")\n",
    "file_menu.add_separator()\n",
    "file_menu.add_command(label=\"Exit\", command=root.quit)\n",
    "menubar.add_cascade(label=\"File\", menu=file_menu)\n",
    "\n",
    "# Edit\n",
    "edit_menu = Menu(menubar, tearoff=0)\n",
    "edit_menu.add_command(label=\"Cut\")\n",
    "edit_menu.add_command(label=\"Copy\")\n",
    "edit_menu.add_command(label=\"Paste\")\n",
    "menubar.add_cascade(label=\"Edit\", menu=edit_menu)\n",
    "\n",
    "root.config(menu=menubar)\n",
    "root.mainloop()"
   ]
  },
  {
   "cell_type": "code",
   "execution_count": null,
   "id": "a09763f0",
   "metadata": {},
   "outputs": [],
   "source": []
  },
  {
   "cell_type": "code",
   "execution_count": null,
   "id": "5980311e",
   "metadata": {},
   "outputs": [],
   "source": []
  }
 ],
 "metadata": {
  "kernelspec": {
   "display_name": "Python 3 (ipykernel)",
   "language": "python",
   "name": "python3"
  },
  "language_info": {
   "codemirror_mode": {
    "name": "ipython",
    "version": 3
   },
   "file_extension": ".py",
   "mimetype": "text/x-python",
   "name": "python",
   "nbconvert_exporter": "python",
   "pygments_lexer": "ipython3",
   "version": "3.9.13"
  }
 },
 "nbformat": 4,
 "nbformat_minor": 5
}
