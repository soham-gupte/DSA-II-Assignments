{
 "cells": [
  {
   "cell_type": "raw",
   "id": "69217ddc",
   "metadata": {},
   "source": [
    "Polymorphism"
   ]
  },
  {
   "cell_type": "code",
   "execution_count": 1,
   "id": "150e1a46",
   "metadata": {},
   "outputs": [],
   "source": [
    "class Animal:\n",
    "    def __init__(self, name):\n",
    "        self.name = name\n",
    "    def speak(self):\n",
    "        pass\n",
    "    \n",
    "class Dog(Animal):\n",
    "    def speak(self):\n",
    "        return \"Woof!\"\n",
    "    def eat(self):\n",
    "        return \"Chicken\"\n",
    "    \n",
    "class Cat(Animal):\n",
    "    def speak(self):\n",
    "        return \"Meow!\"\n",
    "    def eat(self):\n",
    "        return \"Fish\"\n",
    "    \n",
    "class Cow(Animal):\n",
    "    def speak(self):\n",
    "        return \"Moo!\"\n",
    "    def eat(self):\n",
    "        return \"Grass\""
   ]
  },
  {
   "cell_type": "code",
   "execution_count": 3,
   "id": "b0d02c34",
   "metadata": {},
   "outputs": [
    {
     "name": "stdout",
     "output_type": "stream",
     "text": [
      "1 - Speak\n",
      "2 - Eat\n",
      "0 - Quit\n",
      "Enter option: 1\n",
      "Bruno says Woof!\n",
      "Hazel says Meow!\n",
      "Amul says Moo!\n",
      "1 - Speak\n",
      "2 - Eat\n",
      "0 - Quit\n",
      "Enter option: 2\n",
      "Bruno eats Chicken\n",
      "Hazel eats Fish\n",
      "Amul eats Grass\n",
      "1 - Speak\n",
      "2 - Eat\n",
      "0 - Quit\n",
      "Enter option: 0\n"
     ]
    }
   ],
   "source": [
    "animals = [Dog(\"Bruno\"), Cat(\"Hazel\"), Cow(\"Amul\")]\n",
    "choice = 1 \n",
    "\n",
    "while (choice) :\n",
    "    print(\"1 - Speak\")\n",
    "    print(\"2 - Eat\")\n",
    "    print(\"0 - Quit\")\n",
    "    choice = int(input(\"Enter option: \"))\n",
    "    if (choice == 1) :\n",
    "        for animal in animals :\n",
    "            print(animal.name, \"says\", animal.speak())\n",
    "    elif (choice == 2) :\n",
    "         for animal in animals :\n",
    "            print(animal.name, \"eats\", animal.eat())"
   ]
  },
  {
   "cell_type": "code",
   "execution_count": null,
   "id": "4932c940",
   "metadata": {},
   "outputs": [],
   "source": []
  }
 ],
 "metadata": {
  "kernelspec": {
   "display_name": "Python 3 (ipykernel)",
   "language": "python",
   "name": "python3"
  },
  "language_info": {
   "codemirror_mode": {
    "name": "ipython",
    "version": 3
   },
   "file_extension": ".py",
   "mimetype": "text/x-python",
   "name": "python",
   "nbconvert_exporter": "python",
   "pygments_lexer": "ipython3",
   "version": "3.9.13"
  }
 },
 "nbformat": 4,
 "nbformat_minor": 5
}
