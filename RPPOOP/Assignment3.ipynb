{
 "cells": [
  {
   "cell_type": "code",
   "execution_count": 9,
   "id": "3d753b75",
   "metadata": {},
   "outputs": [],
   "source": [
    "class Animal:\n",
    "    def __init__(self, name):\n",
    "        self.name = name\n",
    "\n",
    "    def get_eyes(self) :\n",
    "        print(\"Number of eyes = 2\")\n",
    "    \n",
    "    def get_limbs(self) :\n",
    "        print(\"Number of limbs = 4\")\n",
    "    \n",
    "\n",
    "class Dog(Animal):\n",
    "    def __init__(self, name, breed):\n",
    "        super().__init__(name)\n",
    "        self.breed = breed\n",
    "\n",
    "    def speak(self):\n",
    "        print(f\"{self.name} barks\")\n",
    "\n",
    "class Bat(Animal):\n",
    "    def __init__(self, name):\n",
    "        super().__init__(name)\n",
    "\n",
    "    def speak(self):\n",
    "        print(f\"{self.name} does not speak\")\n",
    "        \n",
    "    def get_limbs(self) :\n",
    "        print(\"Number of limbs = 2\") "
   ]
  },
  {
   "cell_type": "code",
   "execution_count": 12,
   "id": "34433543",
   "metadata": {},
   "outputs": [
    {
     "name": "stdout",
     "output_type": "stream",
     "text": [
      "1 - Create dog\n",
      "2 - Create bat\n",
      "3 - Display eyes of animal\n",
      "4 - Display limbs of animal\n",
      "0 - Quit\n",
      "Enter option: 3\n",
      "Create an animal first!\n",
      "1 - Create dog\n",
      "2 - Create bat\n",
      "3 - Display eyes of animal\n",
      "4 - Display limbs of animal\n",
      "0 - Quit\n",
      "Enter option: 0\n",
      "Create an animal first!\n"
     ]
    }
   ],
   "source": [
    "choice = 1\n",
    "l = []\n",
    "\n",
    "while (choice) :\n",
    "    print(\"1 - Create dog\")\n",
    "    print(\"2 - Create bat\")\n",
    "    print(\"3 - Display eyes of animal\")\n",
    "    print(\"4 - Display limbs of animal\")    \n",
    "    print(\"0 - Quit\")\n",
    "    choice = int(input(\"Enter option: \"))\n",
    "    if (choice == 1) :\n",
    "        name = input(\"Enter name of dog: \")\n",
    "        breed = input(\"Enter breed of dog: \")\n",
    "        x = Dog(name, breed)\n",
    "        l.append(x)\n",
    "    elif (choice == 2) :\n",
    "        name = input(\"Enter name of bat: \")\n",
    "        x = Bat(name)\n",
    "        l.append(x)\n",
    "    elif (l == []) :\n",
    "        print(\"Create an animal first!\")\n",
    "    elif (choice == 3) :\n",
    "        l[-1].get_eyes()\n",
    "    elif (choice == 4) :\n",
    "        l[-1].get_limbs()"
   ]
  },
  {
   "cell_type": "code",
   "execution_count": null,
   "id": "6fd33a51",
   "metadata": {},
   "outputs": [],
   "source": []
  }
 ],
 "metadata": {
  "kernelspec": {
   "display_name": "Python 3 (ipykernel)",
   "language": "python",
   "name": "python3"
  },
  "language_info": {
   "codemirror_mode": {
    "name": "ipython",
    "version": 3
   },
   "file_extension": ".py",
   "mimetype": "text/x-python",
   "name": "python",
   "nbconvert_exporter": "python",
   "pygments_lexer": "ipython3",
   "version": "3.9.13"
  }
 },
 "nbformat": 4,
 "nbformat_minor": 5
}
