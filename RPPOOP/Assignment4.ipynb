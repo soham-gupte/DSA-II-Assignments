{
 "cells": [
  {
   "cell_type": "markdown",
   "id": "78ce07aa",
   "metadata": {},
   "source": [
    "Assignment 4:\n",
    "Write a program to display two labels with different colored background"
   ]
  },
  {
   "cell_type": "code",
   "execution_count": 2,
   "id": "1f0077e1",
   "metadata": {},
   "outputs": [],
   "source": [
    "import tkinter as tk"
   ]
  },
  {
   "cell_type": "code",
   "execution_count": 13,
   "id": "a9584830",
   "metadata": {},
   "outputs": [],
   "source": [
    "root = tk.Tk()\n",
    "root.title(\"Two Labels\")\n",
    "\n",
    "label1 = tk.Label(root, text=\"Label 1\", bg=\"blue\", fg=\"white\", padx=40, pady=20)\n",
    "label1.pack()\n",
    "\n",
    "label2 = tk.Label(root, text=\"Label 2\", bg=\"yellow\", fg=\"black\", padx=40, pady=20)\n",
    "label2.pack()\n",
    "\n",
    "root.mainloop()"
   ]
  },
  {
   "cell_type": "code",
   "execution_count": null,
   "id": "e0c1a565",
   "metadata": {},
   "outputs": [],
   "source": []
  }
 ],
 "metadata": {
  "kernelspec": {
   "display_name": "Python 3 (ipykernel)",
   "language": "python",
   "name": "python3"
  },
  "language_info": {
   "codemirror_mode": {
    "name": "ipython",
    "version": 3
   },
   "file_extension": ".py",
   "mimetype": "text/x-python",
   "name": "python",
   "nbconvert_exporter": "python",
   "pygments_lexer": "ipython3",
   "version": "3.9.13"
  }
 },
 "nbformat": 4,
 "nbformat_minor": 5
}
